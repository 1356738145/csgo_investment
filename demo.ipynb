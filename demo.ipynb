{
 "cells": [
  {
   "cell_type": "code",
   "execution_count": 1,
   "metadata": {},
   "outputs": [],
   "source": [
    "steamId = \"76561198360001047\"\n",
    "steamKey = \"6892E7A8D73EA59885C8162BA4CCF102\""
   ]
  },
  {
   "cell_type": "code",
   "execution_count": 2,
   "metadata": {},
   "outputs": [],
   "source": [
    "import requests"
   ]
  },
  {
   "cell_type": "code",
   "execution_count": 3,
   "metadata": {},
   "outputs": [],
   "source": [
    "def fetch(api_link):\n",
    "    url = api_link + \"?key=\" + steamKey + \"&steamids=\" + steamId\n",
    "    return requests.get(url).json()"
   ]
  },
  {
   "cell_type": "code",
   "execution_count": 11,
   "metadata": {},
   "outputs": [
    {
     "data": {
      "text/plain": [
       "<Response [200]>"
      ]
     },
     "execution_count": 11,
     "metadata": {},
     "output_type": "execute_result"
    }
   ],
   "source": [
    "s = requests.Session()\n",
    "s.get(\"https://www.csgoob.com/\")"
   ]
  },
  {
   "cell_type": "code",
   "execution_count": 23,
   "metadata": {},
   "outputs": [
    {
     "name": "stdout",
     "output_type": "stream",
     "text": [
      "No Auth in!\n"
     ]
    }
   ],
   "source": [
    "import requests\n",
    "import json\n",
    "\n",
    "url = \"https://www.csgoob.com/api/v1/goods/chart\"\n",
    "\n",
    "payload = json.dumps({\n",
    "    \"goods\": [\n",
    "        {\n",
    "            \"goodsId\": \"835747\",\n",
    "            \"platform\": 0\n",
    "        }\n",
    "    ],\n",
    "    \"timeRange\": \"HALF_YEAR\"\n",
    "})\n",
    "headers = {\n",
    "    'Auth': '513e0baa39ed818a30e5ece46f7424a0',\n",
    "    'Cache-Control': 'no-cache',\n",
    "    'Connection': 'keep-alive',\n",
    "    'Content-Type': 'application/json',\n",
    "    'Timestamp': '1668524905000',\n",
    "    'User-Agent': 'Mozilla/5.0 (Windows NT 10.0; Win64; x64) AppleWebKit/537.36 (KHTML, like Gecko) Chrome/107.0.0.0 Safari/537.36 Edg/107.0.1418.42',\n",
    "    'Cookie': 'wzws_sessionid=gTk4NTMwMIIwMWJlYzaAMjIyLjE2LjMzLjEwMKBjc6xR'\n",
    "}\n",
    "\n",
    "response = requests.request(\"POST\", url, headers=headers, data=payload)\n",
    "\n",
    "print(response.text)\n"
   ]
  },
  {
   "cell_type": "code",
   "execution_count": 22,
   "metadata": {},
   "outputs": [
    {
     "data": {
      "text/plain": [
       "{'User-Agent': 'python-requests/2.28.1', 'Accept-Encoding': 'gzip, deflate, br', 'Accept': '*/*', 'Connection': 'keep-alive'}"
      ]
     },
     "execution_count": 22,
     "metadata": {},
     "output_type": "execute_result"
    }
   ],
   "source": [
    "s.headers"
   ]
  },
  {
   "cell_type": "code",
   "execution_count": 24,
   "metadata": {},
   "outputs": [
    {
     "name": "stdout",
     "output_type": "stream",
     "text": [
      "{\n",
      "  \"Code\" : 0,\n",
      "  \"Msg\" : \"请求成功\",\n",
      "  \"Data\" : [ {\n",
      "    \"stickersIsSort\" : false,\n",
      "    \"subsidyPurchase\" : 0,\n",
      "    \"stickers\" : null,\n",
      "    \"label\" : null,\n",
      "    \"Id\" : 102375,\n",
      "    \"IsFavorite\" : null,\n",
      "    \"GameId\" : 730,\n",
      "    \"GameName\" : \"CS:GO\",\n",
      "    \"GameIcon\" : \"https://youpin.img898.com/logo/csgo.png\",\n",
      "    \"CommodityName\" : \"USP 消音版 | 印花集 (崭新出厂)\",\n",
      "    \"CommodityHashName\" : \"USP-S | Printstream (Factory New)\",\n",
      "    \"IconUrl\" : \"https://youpin.img898.com/economy/image/9435b54cee9346d7ac295fd6aa309479.png\",\n",
      "    \"IconUrlLarge\" : \"https://youpin.img898.com/economy/image/af3547e89bcf44658c09436c903af9f5.png\",\n",
      "    \"OnSaleCount\" : 97,\n",
      "    \"OnLeaseCount\" : 44,\n",
      "    \"LeaseUnitPrice\" : \"1.71\",\n",
      "    \"LongLeaseUnitPrice\" : \"1.39\",\n",
      "    \"LeaseDeposit\" : \"1760.40\",\n",
      "    \"Price\" : \"1459.00\",\n",
      "    \"SteamPrice\" : \"1624.87\",\n",
      "    \"SteamUSDPrice\" : \"199.98\",\n",
      "    \"TypeName\" : \"手枪\",\n",
      "    \"Exterior\" : \"崭新出厂\",\n",
      "    \"ExteriorColor\" : \"008000\",\n",
      "    \"Rarity\" : \"隐秘\",\n",
      "    \"RarityColor\" : \"eb4b4b\",\n",
      "    \"Quality\" : \"普通\",\n",
      "    \"QualityColor\" : \"B2B2B2\",\n",
      "    \"SortId\" : 102375,\n",
      "    \"HaveLease\" : 1\n",
      "  }, {\n",
      "    \"stickersIsSort\" : false,\n",
      "    \"subsidyPurchase\" : 0,\n",
      "    \"stickers\" : null,\n",
      "    \"label\" : null,\n",
      "    \"Id\" : 102440,\n",
      "    \"IsFavorite\" : null,\n",
      "    \"GameId\" : 730,\n",
      "    \"GameName\" : \"CS:GO\",\n",
      "    \"GameIcon\" : \"https://youpin.img898.com/logo/csgo.png\",\n",
      "    \"CommodityName\" : \"USP 消音版（StatTrak™） | 印花集 (崭新出厂)\",\n",
      "    \"CommodityHashName\" : \"StatTrak™ USP-S | Printstream (Factory New)\",\n",
      "    \"IconUrl\" : \"https://youpin.img898.com/economy/image/0f5c822e03f64c4387ab238cccd810b0.png\",\n",
      "    \"IconUrlLarge\" : \"https://youpin.img898.com/economy/image/771b65820caf4dd4b0620e9e08314706.png\",\n",
      "    \"OnSaleCount\" : 29,\n",
      "    \"OnLeaseCount\" : 19,\n",
      "    \"LeaseUnitPrice\" : \"3.30\",\n",
      "    \"LongLeaseUnitPrice\" : \"2.50\",\n",
      "    \"LeaseDeposit\" : \"4423.99\",\n",
      "    \"Price\" : \"3620.00\",\n",
      "    \"SteamPrice\" : \"4257.50\",\n",
      "    \"SteamUSDPrice\" : \"524.00\",\n",
      "    \"TypeName\" : \"手枪\",\n",
      "    \"Exterior\" : \"崭新出厂\",\n",
      "    \"ExteriorColor\" : \"008000\",\n",
      "    \"Rarity\" : \"隐秘\",\n",
      "    \"RarityColor\" : \"eb4b4b\",\n",
      "    \"Quality\" : \"StatTrak™\",\n",
      "    \"QualityColor\" : \"CF6A32\",\n",
      "    \"SortId\" : 102440,\n",
      "    \"HaveLease\" : 1\n",
      "  } ],\n",
      "  \"TotalCount\" : 1000\n",
      "}\n"
     ]
    }
   ],
   "source": [
    "import requests\n",
    "\n",
    "url = \"https://api.youpin898.com/api/homepage/es/template/GetCsGoPagedList\"\n",
    "\n",
    "payload = json.dumps({\"listType\":\"30\",\"gameId\":\"730\",\"keyWords\":\"USP 消音版 | 印花集 (崭新出厂)\",\"pageIndex\":1,\"pageSize\":20,\"sortType\":\"0\",\"listSortType\":\"2\"})\n",
    "headers = {\n",
    "    'authority': 'api.youpin898.com',\n",
    "    'content-type': 'application/json;charset=UTF-8',\n",
    "    'user-agent': 'Mozilla/5.0 (Windows NT 10.0; Win64; x64) AppleWebKit/537.36 (KHTML, like Gecko) Chrome/107.0.0.0 Safari/537.36 Edg/107.0.1418.42'\n",
    "}\n",
    "\n",
    "response = requests.request(\"POST\", url, headers=headers, data=payload)\n",
    "\n",
    "print(response.text)\n"
   ]
  },
  {
   "cell_type": "code",
   "execution_count": 1,
   "metadata": {},
   "outputs": [],
   "source": [
    "from api import Goods, Inventory"
   ]
  },
  {
   "cell_type": "code",
   "execution_count": 2,
   "metadata": {},
   "outputs": [],
   "source": [
    "inventory_buff = Inventory('./data.pkl')"
   ]
  },
  {
   "cell_type": "code",
   "execution_count": 6,
   "metadata": {},
   "outputs": [],
   "source": [
    "for i in inventory_buff():\n",
    "    inventory_buff()[i].sell_price = 0"
   ]
  },
  {
   "cell_type": "code",
   "execution_count": 7,
   "metadata": {},
   "outputs": [],
   "source": [
    "inventory_buff.save()"
   ]
  },
  {
   "cell_type": "code",
   "execution_count": 6,
   "metadata": {},
   "outputs": [],
   "source": [
    "observe = [xx for xx in inventory_buff if xx.cost == 0]\n",
    "track = [xx for xx in inventory_buff if xx.cost != 0]"
   ]
  },
  {
   "cell_type": "code",
   "execution_count": 6,
   "metadata": {},
   "outputs": [],
   "source": [
    "import pandas as pd"
   ]
  },
  {
   "cell_type": "code",
   "execution_count": 7,
   "metadata": {},
   "outputs": [
    {
     "data": {
      "text/html": [
       "<div>\n",
       "<style scoped>\n",
       "    .dataframe tbody tr th:only-of-type {\n",
       "        vertical-align: middle;\n",
       "    }\n",
       "\n",
       "    .dataframe tbody tr th {\n",
       "        vertical-align: top;\n",
       "    }\n",
       "\n",
       "    .dataframe thead th {\n",
       "        text-align: right;\n",
       "    }\n",
       "</style>\n",
       "<table border=\"1\" class=\"dataframe\">\n",
       "  <thead>\n",
       "    <tr style=\"text-align: right;\">\n",
       "      <th></th>\n",
       "      <th>Buff id</th>\n",
       "      <th>有品 id</th>\n",
       "      <th>名称</th>\n",
       "      <th>Buff 价格</th>\n",
       "      <th>有品价格</th>\n",
       "      <th>Steam 价格</th>\n",
       "      <th>状态</th>\n",
       "      <th>有品在售</th>\n",
       "      <th>有品在租</th>\n",
       "      <th>短租价格(元)</th>\n",
       "      <th>长租价格(元)</th>\n",
       "      <th>押金</th>\n",
       "      <th>租售比</th>\n",
       "      <th>租金比例(%)</th>\n",
       "      <th>押金比例(%)</th>\n",
       "      <th>年化短租比例(%)</th>\n",
       "      <th>年化长租比例(%)</th>\n",
       "      <th>套现比例(%)</th>\n",
       "      <th>buff和有品价格比例</th>\n",
       "    </tr>\n",
       "  </thead>\n",
       "  <tbody>\n",
       "    <tr>\n",
       "      <th>0</th>\n",
       "      <td>35230</td>\n",
       "      <td>2120</td>\n",
       "      <td>M4A1 消音型 | 破碎铅秋 (略有磨损)</td>\n",
       "      <td>46</td>\n",
       "      <td>46.0</td>\n",
       "      <td>61.48</td>\n",
       "      <td>观望中</td>\n",
       "      <td>105</td>\n",
       "      <td>47</td>\n",
       "      <td>0.06</td>\n",
       "      <td>0.05</td>\n",
       "      <td>50.0</td>\n",
       "      <td>0.4476</td>\n",
       "      <td>0.1304</td>\n",
       "      <td>108.6957</td>\n",
       "      <td>25.0435</td>\n",
       "      <td>28.6957</td>\n",
       "      <td>74.8211</td>\n",
       "      <td>1.0000</td>\n",
       "    </tr>\n",
       "    <tr>\n",
       "      <th>1</th>\n",
       "      <td>35238</td>\n",
       "      <td>47146</td>\n",
       "      <td>M4A1 消音型 | 机械工业 (崭新出厂)</td>\n",
       "      <td>396</td>\n",
       "      <td>820.0</td>\n",
       "      <td>467.31</td>\n",
       "      <td>观望中</td>\n",
       "      <td>30</td>\n",
       "      <td>19</td>\n",
       "      <td>1.35</td>\n",
       "      <td>1.00</td>\n",
       "      <td>1077.6</td>\n",
       "      <td>0.6333</td>\n",
       "      <td>0.3409</td>\n",
       "      <td>272.1212</td>\n",
       "      <td>65.4545</td>\n",
       "      <td>66.6667</td>\n",
       "      <td>84.7403</td>\n",
       "      <td>0.4829</td>\n",
       "    </tr>\n",
       "  </tbody>\n",
       "</table>\n",
       "</div>"
      ],
      "text/plain": [
       "  Buff id  有品 id                      名称  Buff 价格   有品价格  Steam 价格   状态  有品在售  \\\n",
       "0   35230   2120  M4A1 消音型 | 破碎铅秋 (略有磨损)       46   46.0     61.48  观望中   105   \n",
       "1   35238  47146  M4A1 消音型 | 机械工业 (崭新出厂)      396  820.0    467.31  观望中    30   \n",
       "\n",
       "   有品在租  短租价格(元)  长租价格(元)      押金     租售比  租金比例(%)   押金比例(%)  年化短租比例(%)  \\\n",
       "0    47     0.06     0.05    50.0  0.4476   0.1304  108.6957    25.0435   \n",
       "1    19     1.35     1.00  1077.6  0.6333   0.3409  272.1212    65.4545   \n",
       "\n",
       "   年化长租比例(%)  套现比例(%)  buff和有品价格比例  \n",
       "0    28.6957  74.8211       1.0000  \n",
       "1    66.6667  84.7403       0.4829  "
      ]
     },
     "execution_count": 7,
     "metadata": {},
     "output_type": "execute_result"
    }
   ],
   "source": [
    "\n",
    "data = pd.DataFrame([xx() for xx in observe])\n",
    "#data['Cost']=data['Cost'].map({0:'123'})\n",
    "del data['Cost']\n",
    "data['Status'] = data['Status'].map({0:'观望中'})\n",
    "\n",
    "data.columns = ['Buff id', '有品 id', '名称', 'Buff 价格', '有品价格', 'Steam 价格','状态','有品在售','有品在租','短租价格(元)','长租价格(元)','押金','租售比','租金比例(%)','押金比例(%)','年化短租比例(%)','年化长租比例(%)','套现比例(%)','buff和有品价格比例']\n",
    "data = data.round(4)\n",
    "data"
   ]
  },
  {
   "cell_type": "code",
   "execution_count": 13,
   "metadata": {},
   "outputs": [
    {
     "data": {
      "text/html": [
       "<div>\n",
       "<style scoped>\n",
       "    .dataframe tbody tr th:only-of-type {\n",
       "        vertical-align: middle;\n",
       "    }\n",
       "\n",
       "    .dataframe tbody tr th {\n",
       "        vertical-align: top;\n",
       "    }\n",
       "\n",
       "    .dataframe thead th {\n",
       "        text-align: right;\n",
       "    }\n",
       "</style>\n",
       "<table border=\"1\" class=\"dataframe\">\n",
       "  <thead>\n",
       "    <tr style=\"text-align: right;\">\n",
       "      <th></th>\n",
       "      <th>Buff id</th>\n",
       "      <th>有品 id</th>\n",
       "      <th>名称</th>\n",
       "      <th>购入花费(元)</th>\n",
       "      <th>Buff 价格</th>\n",
       "      <th>有品价格</th>\n",
       "      <th>Steam 价格(元)</th>\n",
       "      <th>状态</th>\n",
       "      <th>有品在售</th>\n",
       "      <th>有品在租</th>\n",
       "      <th>...</th>\n",
       "      <th>押金(元)</th>\n",
       "      <th>租售比</th>\n",
       "      <th>理论目前收益(元)</th>\n",
       "      <th>理论目前收益率(%)</th>\n",
       "      <th>租金比例(%)</th>\n",
       "      <th>押金比例(%)</th>\n",
       "      <th>年化短租比例(%)</th>\n",
       "      <th>年化长租比例(%)</th>\n",
       "      <th>套现比例(%)</th>\n",
       "      <th>buff和有品价格比例</th>\n",
       "    </tr>\n",
       "  </thead>\n",
       "  <tbody>\n",
       "    <tr>\n",
       "      <th>0</th>\n",
       "      <td>759220</td>\n",
       "      <td>2197</td>\n",
       "      <td>M4A1 消音型 | 梦魇 (久经沙场)</td>\n",
       "      <td>22.5</td>\n",
       "      <td>68.59</td>\n",
       "      <td>68.0</td>\n",
       "      <td>89.47</td>\n",
       "      <td>在库中</td>\n",
       "      <td>173</td>\n",
       "      <td>41</td>\n",
       "      <td>...</td>\n",
       "      <td>81.0</td>\n",
       "      <td>0.237</td>\n",
       "      <td>46.09</td>\n",
       "      <td>204.8444</td>\n",
       "      <td>0.1895</td>\n",
       "      <td>118.093</td>\n",
       "      <td>36.3901</td>\n",
       "      <td>42.3385</td>\n",
       "      <td>76.6626</td>\n",
       "      <td>1.0087</td>\n",
       "    </tr>\n",
       "  </tbody>\n",
       "</table>\n",
       "<p>1 rows × 22 columns</p>\n",
       "</div>"
      ],
      "text/plain": [
       "  Buff id  有品 id                    名称  购入花费(元)  Buff 价格  有品价格  Steam 价格(元)  \\\n",
       "0  759220   2197  M4A1 消音型 | 梦魇 (久经沙场)     22.5    68.59  68.0        89.47   \n",
       "\n",
       "    状态  有品在售  有品在租  ...  押金(元)    租售比  理论目前收益(元)  理论目前收益率(%)  租金比例(%)  \\\n",
       "0  在库中   173    41  ...   81.0  0.237      46.09    204.8444   0.1895   \n",
       "\n",
       "   押金比例(%)  年化短租比例(%)  年化长租比例(%)  套现比例(%)  buff和有品价格比例  \n",
       "0  118.093    36.3901    42.3385  76.6626       1.0087  \n",
       "\n",
       "[1 rows x 22 columns]"
      ]
     },
     "execution_count": 13,
     "metadata": {},
     "output_type": "execute_result"
    }
   ],
   "source": [
    "data = pd.DataFrame([xx() for xx in track])\n",
    "data['Status'] = data['Status'].map({0:'在库中',1:'已租出',2:'已卖出'})\n",
    "\n",
    "data.columns = ['Buff id', '有品 id', '名称', '购入花费(元)','Buff 价格', '有品价格', 'Steam 价格(元)','状态','有品在售','有品在租','短租价格(元)','长租价格(元)','押金(元)','租售比','理论目前收益(元)','理论目前收益率(%)','租金比例(%)','押金比例(%)','年化短租比例(%)','年化长租比例(%)','套现比例(%)','buff和有品价格比例']\n",
    "data = data.round(4)\n",
    "data"
   ]
  },
  {
   "cell_type": "code",
   "execution_count": 12,
   "metadata": {},
   "outputs": [
    {
     "data": {
      "text/plain": [
       "[{'BuffId': '759220',\n",
       "  'YoupinId': 2197,\n",
       "  'Name': 'M4A1 消音型 | 梦魇 (久经沙场)',\n",
       "  'Cost': 22.5,\n",
       "  'BuffPrice': 68.7,\n",
       "  'YoupinPrice': 68.0,\n",
       "  'SteamPrice': 87.32,\n",
       "  'Status': 0,\n",
       "  'OnSaleCount': 171,\n",
       "  'OnLeaseCount': 42,\n",
       "  'LeaseUnitPrice': 0.13,\n",
       "  'LongLeaseUnitPrice': 0.1,\n",
       "  'Deposit': 81.6,\n",
       "  'RentSaleRatio': 0.24561403508771928,\n",
       "  'TheoreticalCurrentEarnings': 46.2,\n",
       "  'TheoreticalCurrentEarningsRate': 205.33333333333337,\n",
       "  'LeaseRatio': 0.18922852983988353,\n",
       "  'DepositRatio': 118.7772925764192,\n",
       "  'AnnualizedShortTermLeaseRatio': 36.33187772925764,\n",
       "  'AnnualizedLongTermLeaseRatio': 38.427947598253276,\n",
       "  'CashRatio': 78.67613376087952,\n",
       "  'BuffYouyouRatio': 1.0102941176470588}]"
      ]
     },
     "execution_count": 12,
     "metadata": {},
     "output_type": "execute_result"
    }
   ],
   "source": [
    "[xx() for xx in track]"
   ]
  },
  {
   "cell_type": "code",
   "execution_count": null,
   "metadata": {},
   "outputs": [],
   "source": []
  }
 ],
 "metadata": {
  "kernelspec": {
   "display_name": "Python 3.8.12 ('base')",
   "language": "python",
   "name": "python3"
  },
  "language_info": {
   "codemirror_mode": {
    "name": "ipython",
    "version": 3
   },
   "file_extension": ".py",
   "mimetype": "text/x-python",
   "name": "python",
   "nbconvert_exporter": "python",
   "pygments_lexer": "ipython3",
   "version": "3.8.12"
  },
  "orig_nbformat": 4,
  "vscode": {
   "interpreter": {
    "hash": "ad2bdc8ecc057115af97d19610ffacc2b4e99fae6737bb82f5d7fb13d2f2c186"
   }
  }
 },
 "nbformat": 4,
 "nbformat_minor": 2
}
